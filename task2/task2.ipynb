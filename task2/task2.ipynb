{
 "cells": [
  {
   "cell_type": "code",
   "execution_count": 1,
   "metadata": {
    "collapsed": true
   },
   "outputs": [],
   "source": [
    "import findspark\n",
    "findspark.init(\"C:\\Spark\")\n",
    "from pyspark.sql import SparkSession\n",
    "from pyspark import SparkConf\n",
    "from pyspark import SparkContext\n",
    "sc = SparkContext(\"local\", \"Simple\")"
   ]
  },
  {
   "cell_type": "markdown",
   "metadata": {},
   "source": [
    "7-15 PAT JUDGE\n",
    "\n",
    "https://pintia.cn/problem-sets/16/problems/677"
   ]
  },
  {
   "cell_type": "code",
   "execution_count": 2,
   "metadata": {
    "collapsed": true
   },
   "outputs": [],
   "source": [
    "patSample = sc.textFile(\"patSample.txt\")"
   ]
  },
  {
   "cell_type": "code",
   "execution_count": 3,
   "metadata": {
    "collapsed": true
   },
   "outputs": [],
   "source": [
    "index_sample = patSample.zipWithIndex()"
   ]
  },
  {
   "cell_type": "code",
   "execution_count": 4,
   "metadata": {
    "collapsed": true
   },
   "outputs": [],
   "source": [
    "data = index_sample.filter(lambda x: x[1] > 1).map(lambda x: x[0].split(\" \"))"
   ]
  },
  {
   "cell_type": "code",
   "execution_count": 5,
   "metadata": {
    "collapsed": true
   },
   "outputs": [],
   "source": [
    "info = index_sample.filter(lambda x: x[1] == 0).map(lambda x: x[0].split(\" \"))"
   ]
  },
  {
   "cell_type": "code",
   "execution_count": 6,
   "metadata": {
    "collapsed": true
   },
   "outputs": [],
   "source": [
    "fullMark = index_sample.filter(lambda x: x[1] == 1).map(lambda x: x[0].split(\" \"))"
   ]
  },
  {
   "cell_type": "code",
   "execution_count": 7,
   "metadata": {
    "collapsed": true
   },
   "outputs": [],
   "source": [
    "fullMarkB = sc.broadcast(fullMark.collect())"
   ]
  },
  {
   "cell_type": "code",
   "execution_count": 8,
   "metadata": {
    "collapsed": true
   },
   "outputs": [],
   "source": [
    "userId_high = data.map(lambda x: ((x[0], x[1]), x[2])).reduceByKey(lambda x, y: x> y and x or y)"
   ]
  },
  {
   "cell_type": "code",
   "execution_count": 9,
   "metadata": {},
   "outputs": [
    {
     "name": "stdout",
     "output_type": "stream",
     "text": [
      "[(('00002', '2'), '25'), (('00007', '4'), '17'), (('00005', '1'), '20'), (('00007', '2'), '25'), (('00001', '1'), '18'), (('00004', '3'), '25'), (('00005', '3'), '22'), (('00006', '4'), '-1'), (('00001', '2'), '18'), (('00002', '1'), '20'), (('00004', '1'), '15'), (('00002', '4'), '18'), (('00001', '3'), '4'), (('00001', '4'), '2'), (('00005', '2'), '-1'), (('00004', '2'), '0')]\n"
     ]
    }
   ],
   "source": [
    "print(userId_high.collect())"
   ]
  },
  {
   "cell_type": "code",
   "execution_count": 10,
   "metadata": {
    "collapsed": true
   },
   "outputs": [],
   "source": [
    "user_sum = userId_high.map(lambda x:(x[0][0], x[1])).reduceByKey(lambda x, y: int(x)+int(y) if y!=\"-1\" else int(x)+0)"
   ]
  },
  {
   "cell_type": "code",
   "execution_count": 11,
   "metadata": {},
   "outputs": [
    {
     "name": "stdout",
     "output_type": "stream",
     "text": [
      "[('00002', 63), ('00007', 42), ('00005', 42), ('00001', 42), ('00004', 40), ('00006', '-1')]\n"
     ]
    }
   ],
   "source": [
    "print(user_sum.collect())"
   ]
  },
  {
   "cell_type": "code",
   "execution_count": 12,
   "metadata": {
    "collapsed": true
   },
   "outputs": [],
   "source": [
    "userID_high_group = userId_high.map(lambda x: (x[0][0], x[1])).groupByKey()"
   ]
  },
  {
   "cell_type": "code",
   "execution_count": 13,
   "metadata": {
    "collapsed": true
   },
   "outputs": [],
   "source": [
    "userID_sum_high = user_sum.join(userID_high_group).map(lambda x:(x[0],(x[1][0],list(x[1][1]))))"
   ]
  },
  {
   "cell_type": "code",
   "execution_count": 14,
   "metadata": {},
   "outputs": [
    {
     "name": "stdout",
     "output_type": "stream",
     "text": [
      "[('00002', (63, ['25', '20', '18'])), ('00007', (42, ['17', '25'])), ('00005', (42, ['20', '22', '-1'])), ('00001', (42, ['18', '18', '4', '2'])), ('00004', (40, ['25', '15', '0'])), ('00006', ('-1', ['-1']))]\n"
     ]
    }
   ],
   "source": [
    "print(userID_sum_high.collect())"
   ]
  },
  {
   "cell_type": "code",
   "execution_count": 15,
   "metadata": {},
   "outputs": [
    {
     "name": "stdout",
     "output_type": "stream",
     "text": [
      "[('00002', ('2', '25')), ('00007', ('4', '17')), ('00005', ('1', '20')), ('00007', ('2', '25')), ('00001', ('1', '18')), ('00004', ('3', '25')), ('00005', ('3', '22')), ('00006', ('4', '-1')), ('00001', ('2', '18')), ('00002', ('1', '20')), ('00004', ('1', '15')), ('00002', ('4', '18')), ('00001', ('3', '4')), ('00001', ('4', '2')), ('00005', ('2', '-1')), ('00004', ('2', '0'))]\n"
     ]
    }
   ],
   "source": [
    "print(userId_high.map(lambda x: (x[0][0], (x[0][1], x[1]))).collect())"
   ]
  },
  {
   "cell_type": "code",
   "execution_count": 16,
   "metadata": {
    "collapsed": true
   },
   "outputs": [],
   "source": [
    "joined_score = userID_sum_high.map(lambda x: (x[0], x[1])).join(userId_high.map(lambda x: (x[0][0], (x[0][1], x[1]))))"
   ]
  },
  {
   "cell_type": "code",
   "execution_count": 17,
   "metadata": {
    "collapsed": true
   },
   "outputs": [],
   "source": [
    "def rank(x):\n",
    "    question_id = x[1][1][0].split(\",\")\n",
    "    question_score = x[1][1][1].split(\",\")\n",
    "    perfect = 0\n",
    "    fm = fullMarkB.value\n",
    "    for index, item in enumerate(question_id):\n",
    "        if int(question_score[index]) != int(fm[0][int(item)-1]):\n",
    "            continue\n",
    "        perfect += 1\n",
    "    return [x[0], str(perfect)]"
   ]
  },
  {
   "cell_type": "code",
   "execution_count": 18,
   "metadata": {
    "collapsed": true
   },
   "outputs": [],
   "source": [
    "score_rdd = joined_score.map(lambda x: rank(x)).reduceByKey(lambda x, y: int(x) + int(y) )"
   ]
  },
  {
   "cell_type": "code",
   "execution_count": 19,
   "metadata": {},
   "outputs": [
    {
     "name": "stdout",
     "output_type": "stream",
     "text": [
      "[('00005', 1), ('00006', '0'), ('00002', 2), ('00007', 1), ('00001', 0), ('00004', 1)]\n"
     ]
    }
   ],
   "source": [
    "print(score_rdd.collect())"
   ]
  },
  {
   "cell_type": "code",
   "execution_count": 20,
   "metadata": {
    "collapsed": true
   },
   "outputs": [],
   "source": [
    "data_final = userID_sum_high.join(score_rdd).filter(lambda x: x[1][0][0] != '-1').sortBy(lambda x: x[1][1], ascending=False).sortBy(lambda x: x[1][0][0], ascending=False)"
   ]
  },
  {
   "cell_type": "code",
   "execution_count": 21,
   "metadata": {},
   "outputs": [
    {
     "name": "stdout",
     "output_type": "stream",
     "text": [
      "[('00002', ((63, ['25', '20', '18']), 2)), ('00005', ((42, ['20', '22', '-1']), 1)), ('00007', ((42, ['17', '25']), 1)), ('00001', ((42, ['18', '18', '4', '2']), 0)), ('00004', ((40, ['25', '15', '0']), 1))]\n"
     ]
    }
   ],
   "source": [
    "print(data_final.collect())"
   ]
  },
  {
   "cell_type": "code",
   "execution_count": 30,
   "metadata": {
    "collapsed": true
   },
   "outputs": [],
   "source": [
    "data_ranked = data_final.map(lambda x: (x[0], x[1][0][0], x[1][0][1])).collect()"
   ]
  },
  {
   "cell_type": "code",
   "execution_count": 31,
   "metadata": {},
   "outputs": [
    {
     "name": "stdout",
     "output_type": "stream",
     "text": [
      "00002 63 ['25', '20', '18']\n",
      "00005 42 ['20', '22', '-1']\n",
      "00007 42 ['17', '25']\n",
      "00001 42 ['18', '18', '4', '2']\n",
      "00004 40 ['25', '15', '0']\n"
     ]
    }
   ],
   "source": [
    "for a, b, c in data_ranked:\n",
    "    print(a, b, c)"
   ]
  },
  {
   "cell_type": "code",
   "execution_count": null,
   "metadata": {
    "collapsed": true
   },
   "outputs": [],
   "source": []
  },
  {
   "cell_type": "code",
   "execution_count": null,
   "metadata": {
    "collapsed": true
   },
   "outputs": [],
   "source": []
  },
  {
   "cell_type": "code",
   "execution_count": null,
   "metadata": {
    "collapsed": true
   },
   "outputs": [],
   "source": []
  },
  {
   "cell_type": "code",
   "execution_count": null,
   "metadata": {
    "collapsed": true
   },
   "outputs": [],
   "source": []
  }
 ],
 "metadata": {
  "kernelspec": {
   "display_name": "Python 3",
   "language": "python",
   "name": "python3"
  },
  "language_info": {
   "codemirror_mode": {
    "name": "ipython",
    "version": 3
   },
   "file_extension": ".py",
   "mimetype": "text/x-python",
   "name": "python",
   "nbconvert_exporter": "python",
   "pygments_lexer": "ipython3",
   "version": "3.6.3"
  }
 },
 "nbformat": 4,
 "nbformat_minor": 2
}
