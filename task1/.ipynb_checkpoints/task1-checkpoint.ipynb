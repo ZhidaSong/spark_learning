{
 "cells": [
  {
   "cell_type": "code",
   "execution_count": null,
   "metadata": {
    "collapsed": true
   },
   "outputs": [],
   "source": [
    "import findspark\n",
    "findspark.init(\"C:\\Spark\")\n",
    "from pyspark.sql import SparkSession\n",
    "from pyspark import SparkConf\n",
    "from pyspark import SparkContext\n",
    "sc = SparkContext(\"local\", \"Simple\")"
   ]
  },
  {
   "cell_type": "code",
   "execution_count": null,
   "metadata": {
    "collapsed": true
   },
   "outputs": [],
   "source": [
    "# word count (python版)"
   ]
  },
  {
   "cell_type": "code",
   "execution_count": null,
   "metadata": {
    "collapsed": true
   },
   "outputs": [],
   "source": [
    "# 读取word count文件"
   ]
  },
  {
   "cell_type": "code",
   "execution_count": null,
   "metadata": {},
   "outputs": [],
   "source": [
    "wordCountFile = sc.textFile(\"wordCount.txt\")"
   ]
  },
  {
   "cell_type": "code",
   "execution_count": null,
   "metadata": {
    "collapsed": true
   },
   "outputs": [],
   "source": [
    "# 取出单词，空格分隔，也可写方法调用\n",
    "# def getWords(line)\n",
    "#        return   line.split()"
   ]
  },
  {
   "cell_type": "code",
   "execution_count": null,
   "metadata": {
    "collapsed": true
   },
   "outputs": [],
   "source": [
    "wordsRDD = wordCountFile.flatMap(lambda line : line.split(\" \"))"
   ]
  },
  {
   "cell_type": "code",
   "execution_count": null,
   "metadata": {
    "collapsed": true
   },
   "outputs": [],
   "source": [
    "# 单词个数 key-value"
   ]
  },
  {
   "cell_type": "code",
   "execution_count": null,
   "metadata": {
    "collapsed": true
   },
   "outputs": [],
   "source": [
    "wordRDD = words.map(lambda word: (word, 1)).reduceByKey(lambda x, y : x + y)"
   ]
  },
  {
   "cell_type": "code",
   "execution_count": null,
   "metadata": {
    "collapsed": true
   },
   "outputs": [],
   "source": [
    "# 结果文件输出"
   ]
  },
  {
   "cell_type": "code",
   "execution_count": null,
   "metadata": {},
   "outputs": [],
   "source": [
    "wordRDD.saveAsTextFile(\"wordCountResu\")"
   ]
  },
  {
   "cell_type": "markdown",
   "metadata": {
    "collapsed": true
   },
   "source": []
  },
  {
   "cell_type": "markdown",
   "metadata": {},
   "source": [
    "word count (scala版)\n",
    "\n",
    "val conf = new SparkConf().setAppName(\"wordCount\")\n",
    "val sc = new SparkContext(conf)\n",
    "val wordCountFile  = sc.textFile(\"wordCount.txt\")\n",
    "val wordsRDD = wordCountFile.flatMap(line => line.split(\" \"))\n",
    "val wordRDD = wordsRDD.map(word=>(word, 1)).reduceByKey(_ + _)\n",
    "wordRDD.saveAsTextFile(\"wordCountResu\")"
   ]
  },
  {
   "cell_type": "markdown",
   "metadata": {},
   "source": []
  },
  {
   "cell_type": "markdown",
   "metadata": {},
   "source": [
    "spark 和 mapReduce 的区别？\n",
    "\n",
    "最主要的区别：\n",
    "spark把中间数据放在内存中，读取运算效率高。\n",
    "mapreduce把中间数据保存在磁盘上，读取运算效率比较低。\n",
    "如果数据由磁盘读取，spark速度是hadoop mapreduce的10倍以上。\n",
    "如果数据从内存读取，spark速度是hadoop mapreduce的100倍以上。\n",
    "\n",
    "主要原因：spark基于内存计算；spark引入DAG。\n",
    "\n",
    "MapReduce 框架包含5 个步骤：Map、Sort、Combine、Shuffle 、Reduce。\n",
    "这5 个步骤中最重要的就是Map和Reduce。\n",
    "\n",
    "由于 MapReduce 的框架限制，一个 MapReduce 任务只能包含一次 Map 和一次 Reduce，计算完成之后，MapReduce 会将运算结果写回到磁盘中以供下次计算使用。这样的读写数据会引起大量的网络传输以及磁盘读写，极其耗时。\n",
    "\n",
    "Spark 延续了MapReduce 的设计思路：对数据的计算也分为Map 和Reduce 两类。但不同的是，一个Spark 任务并不止包含一个Map 和一个Reduce，而是由一系列的Map、Reduce构成。并且还提供了不止Map和Reduce的很多其他操作方法比如：filter，groupBy等。这就使的spark计算的中间结果可以更高效地转给下一个计算步骤，提高运算效率。\n"
   ]
  },
  {
   "cell_type": "markdown",
   "metadata": {},
   "source": []
  },
  {
   "attachments": {},
   "cell_type": "markdown",
   "metadata": {},
   "source": [
    "RDD的本质？\n",
    "\n",
    "RDD 弹性分布式数据集（Resilient Distributed Dataset）。\n",
    "RDD 其实就是分布式的元素集合。\n",
    "\n",
    "在Spark 中，对数据的所有操作包括创建RDD、转化已有RDD（transform） 以及调用RDD 操作进行求值（action）。\n",
    "Spark 会自动将RDD 中的数据分发到集群上，并将操作并行化执行。\n",
    "\n",
    "Spark 中的RDD 就是一个不可变的分布式对象集合。\n",
    "每个RDD 都被分为多个分区，这些分区运行在集群中的不同节点上。"
   ]
  }
 ],
 "metadata": {
  "kernelspec": {
   "display_name": "Python 3",
   "language": "python",
   "name": "python3"
  },
  "language_info": {
   "codemirror_mode": {
    "name": "ipython",
    "version": 3
   },
   "file_extension": ".py",
   "mimetype": "text/x-python",
   "name": "python",
   "nbconvert_exporter": "python",
   "pygments_lexer": "ipython3",
   "version": "3.6.3"
  }
 },
 "nbformat": 4,
 "nbformat_minor": 2
}
